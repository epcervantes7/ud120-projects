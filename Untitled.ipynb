{
 "cells": [
  {
   "cell_type": "code",
   "execution_count": 2,
   "metadata": {
    "ExecuteTime": {
     "end_time": "2019-10-20T01:16:27.877970Z",
     "start_time": "2019-10-20T01:16:26.832006Z"
    }
   },
   "outputs": [
    {
     "data": {
      "image/png": "[encoded data removed]",
      "text/plain": [
       "<Figure size 432x288 with 1 Axes>"
      ]
     },
     "metadata": {
      "needs_background": "light"
     },
     "output_type": "display_data"
    },
    {
     "data": {
      "image/png": "[encoded data removed]",
      "text/plain": [
       "<Figure size 432x288 with 1 Axes>"
      ]
     },
     "metadata": {
      "needs_background": "light"
     },
     "output_type": "display_data"
    }
   ],
   "source": [
    "import sys\n",
    "sys.path.append(\"./tools/\")\n",
    "\n",
    "\n",
    "\"\"\" \n",
    "    Skeleton code for k-means clustering mini-project.\n",
    "\"\"\"\n",
    "\n",
    "\n",
    "\n",
    "\n",
    "import pickle\n",
    "import numpy\n",
    "import matplotlib.pyplot as plt\n",
    "import sys\n",
    "sys.path.append(\"./tools/\")\n",
    "from feature_format import featureFormat, targetFeatureSplit\n",
    "from sklearn.preprocessing import MinMaxScaler\n",
    "from sklearn.cluster import KMeans\n",
    "\n",
    "\n",
    "def Draw(pred, features, poi, mark_poi=False, name=\"image.png\", f1_name=\"feature 1\", f2_name=\"feature 2\"):\n",
    "    \"\"\" some plotting code designed to help you visualize your clusters \"\"\"\n",
    "\n",
    "    ### plot each cluster with a different color--add more colors for\n",
    "    ### drawing more than five clusters\n",
    "    colors = [\"b\", \"c\", \"k\", \"m\", \"g\"]\n",
    "    for ii, pp in enumerate(pred):\n",
    "        plt.scatter(features[ii][0], features[ii][1], color = colors[pred[ii]])\n",
    "\n",
    "    ### if you like, place red stars over points that are POIs (just for funsies)\n",
    "    if mark_poi:\n",
    "        for ii, pp in enumerate(pred):\n",
    "            if poi[ii]:\n",
    "                plt.scatter(features[ii][0], features[ii][1], color=\"r\", marker=\"*\")\n",
    "    plt.xlabel(f1_name)\n",
    "    plt.ylabel(f2_name)\n",
    "    plt.savefig(name)\n",
    "    plt.show()\n",
    "\n",
    "\n",
    "\n",
    "### load in the dict of dicts containing all the data on each person in the dataset\n",
    "data_dict = pickle.load( open(\"./final_project/final_project_dataset.pkl\", \"rb\") )\n",
    "### there's an outlier--remove it! \n",
    "data_dict.pop(\"TOTAL\", 0)\n",
    "\n",
    "\n",
    "### the input features we want to use \n",
    "### can be any key in the person-level dictionary (salary, director_fees, etc.) \n",
    "feature_1 = \"salary\"\n",
    "feature_2 = \"exercised_stock_options\"\n",
    "feature_3 = \"total_payments\"\n",
    "poi  = \"poi\"\n",
    "features_list = [poi, feature_1, feature_2,feature_3]\n",
    "data = featureFormat(data_dict, features_list )\n",
    "poi, finance_features = targetFeatureSplit( data )\n",
    "\n",
    "\n",
    "### in the \"clustering with 3 features\" part of the mini-project,\n",
    "### you'll want to change this line to \n",
    "### for f1, f2, _ in finance_features:\n",
    "### (as it's currently written, the line below assumes 2 features)\n",
    "for f1, f2 ,_ in finance_features:\n",
    "    plt.scatter( f1, f2 )\n",
    "plt.show()\n",
    "\n",
    "### cluster here; create predictions of the cluster labels\n",
    "### for the data and store them to a list called pred\n",
    "\n",
    "kmeans = KMeans(n_clusters=2).fit(finance_features)\n",
    "\n",
    "pred=kmeans.predict(finance_features)\n",
    "\n",
    "### rename the \"name\" parameter when you change the number of features\n",
    "### so that the figure gets saved to a different file\n",
    "try:\n",
    "    Draw(pred, finance_features, poi, mark_poi=False, name=\"clusters3.pdf\", f1_name=feature_1, f2_name=feature_2)\n",
    "except NameError:\n",
    "    print (\"no predictions object named pred found, no clusters to plot\")\n"
   ]
  },
  {
   "cell_type": "code",
   "execution_count": 18,
   "metadata": {
    "ExecuteTime": {
     "end_time": "2019-10-20T01:22:52.364672Z",
     "start_time": "2019-10-20T01:22:52.361803Z"
    }
   },
   "outputs": [],
   "source": [
    "feat=np.array(finance_features)"
   ]
  },
  {
   "cell_type": "code",
   "execution_count": 19,
   "metadata": {
    "ExecuteTime": {
     "end_time": "2019-10-20T01:22:55.450351Z",
     "start_time": "2019-10-20T01:22:55.443350Z"
    }
   },
   "outputs": [
    {
     "data": {
      "text/plain": [
       "array([[3.65788000e+05, 0.00000000e+00, 1.06182700e+06],\n",
       "       [2.67102000e+05, 6.68054400e+06, 5.63434300e+06],\n",
       "       [1.70941000e+05, 4.89034400e+06, 2.11725000e+05],\n",
       "       [0.00000000e+00, 6.51850000e+05, 0.00000000e+00],\n",
       "       [2.43293000e+05, 5.53800100e+06, 2.88682000e+05],\n",
       "       [2.67093000e+05, 0.00000000e+00, 6.28522000e+05],\n",
       "       [0.00000000e+00, 4.93489000e+05, 1.84822700e+06],\n",
       "       [3.70448000e+05, 1.10405400e+06, 4.09977100e+06],\n",
       "       [3.74125000e+05, 6.08750000e+05, 3.85906500e+06],\n",
       "       [1.97091000e+05, 8.80290000e+05, 1.73762900e+06],\n",
       "       [1.30724000e+05, 2.28276800e+06, 3.10022400e+06],\n",
       "       [0.00000000e+00, 0.00000000e+00, 7.74401000e+05],\n",
       "       [2.48546000e+05, 7.65313000e+05, 2.01483500e+06],\n",
       "       [2.57486000e+05, 0.00000000e+00, 1.54505900e+06],\n",
       "       [0.00000000e+00, 2.21827500e+06, 9.66522000e+05],\n",
       "       [0.00000000e+00, 3.72205000e+05, 0.00000000e+00],\n",
       "       [2.88542000e+05, 0.00000000e+00, 1.49034400e+06],\n",
       "       [2.51654000e+05, 1.05632000e+06, 3.20207000e+06],\n",
       "       [2.88558000e+05, 1.85063000e+05, 5.51174000e+05],\n",
       "       [6.37440000e+04, 0.00000000e+00, 7.62135000e+05],\n",
       "       [0.00000000e+00, 1.03032900e+06, 8.74100000e+04],\n",
       "       [3.57091000e+05, 4.34654400e+06, 1.79878000e+06],\n",
       "       [2.71442000e+05, 8.10420000e+04, 3.47114100e+06],\n",
       "       [0.00000000e+00, 3.28500000e+03, 1.02500000e+05],\n",
       "       [3.04110000e+05, 1.44189800e+06, 3.03870200e+06],\n",
       "       [0.00000000e+00, 0.00000000e+00, 1.89583000e+05],\n",
       "       [1.87922000e+05, 0.00000000e+00, 6.18850000e+05],\n",
       "       [0.00000000e+00, 0.00000000e+00, 2.28656000e+05],\n",
       "       [2.13625000e+05, 1.46573400e+06, 2.04759300e+06],\n",
       "       [2.49201000e+05, 1.63523800e+06, 1.09910000e+06],\n",
       "       [0.00000000e+00, 9.87180000e+04, 0.00000000e+00],\n",
       "       [2.31330000e+05, 0.00000000e+00, 9.69068000e+05],\n",
       "       [0.00000000e+00, 0.00000000e+00, 4.75000000e+02],\n",
       "       [1.82245000e+05, 6.01438000e+05, 2.69232400e+06],\n",
       "       [0.00000000e+00, 0.00000000e+00, 1.48000000e+02],\n",
       "       [2.11788000e+05, 0.00000000e+00, 2.08179600e+06],\n",
       "       [0.00000000e+00, 8.50477000e+05, 0.00000000e+00],\n",
       "       [0.00000000e+00, 0.00000000e+00, 7.96100000e+03],\n",
       "       [2.24305000e+05, 0.00000000e+00, 2.65261200e+06],\n",
       "       [2.73746000e+05, 0.00000000e+00, 2.66422800e+06],\n",
       "       [3.39288000e+05, 4.15899500e+06, 1.04257570e+07],\n",
       "       [2.16582000e+05, 1.62439600e+06, 2.28474000e+05],\n",
       "       [2.10500000e+05, 2.02786500e+06, 1.20458300e+06],\n",
       "       [0.00000000e+00, 0.00000000e+00, 2.13071000e+05],\n",
       "       [2.72880000e+05, 4.36515000e+05, 2.14697300e+06],\n",
       "       [4.77000000e+02, 4.04615700e+06, 9.16197000e+05],\n",
       "       [0.00000000e+00, 3.71750000e+05, 7.74920000e+04],\n",
       "       [2.69076000e+05, 6.07837000e+05, 1.05754800e+06],\n",
       "       [4.28780000e+05, 1.83555800e+06, 4.33538800e+06],\n",
       "       [2.11844000e+05, 1.62439600e+06, 2.00388500e+06],\n",
       "       [0.00000000e+00, 4.12878000e+05, 8.74920000e+04],\n",
       "       [2.06121000e+05, 1.73780000e+04, 1.20864900e+06],\n",
       "       [1.74246000e+05, 0.00000000e+00, 7.04896000e+05],\n",
       "       [5.10364000e+05, 3.28296000e+06, 4.67757400e+06],\n",
       "       [3.65038000e+05, 1.62301000e+06, 2.10136400e+06],\n",
       "       [3.65163000e+05, 2.29111300e+06, 4.74797900e+06],\n",
       "       [1.62779000e+05, 1.36237500e+06, 9.99356000e+05],\n",
       "       [0.00000000e+00, 1.39130000e+05, 0.00000000e+00],\n",
       "       [2.36457000e+05, 2.54936100e+06, 8.75889000e+05],\n",
       "       [0.00000000e+00, 0.00000000e+00, 2.15100000e+03],\n",
       "       [1.07232100e+06, 3.43483840e+07, 1.03559793e+08],\n",
       "       [2.61516000e+05, 0.00000000e+00, 1.27158200e+06],\n",
       "       [3.29078000e+05, 1.63703400e+06, 1.32155700e+06],\n",
       "       [0.00000000e+00, 7.57301000e+05, 0.00000000e+00],\n",
       "       [1.84899000e+05, 0.00000000e+00, 8.07956000e+05],\n",
       "       [1.92008000e+05, 8.32370000e+04, 9.00585000e+05],\n",
       "       [0.00000000e+00, 2.57817000e+05, 1.82466000e+05],\n",
       "       [2.62663000e+05, 1.87500000e+05, 1.29746100e+06],\n",
       "       [3.04588000e+05, 9.40257000e+05, 3.67634000e+06],\n",
       "       [0.00000000e+00, 1.75376600e+06, 0.00000000e+00],\n",
       "       [0.00000000e+00, 5.21056900e+06, 3.13186000e+06],\n",
       "       [2.78601000e+05, 0.00000000e+00, 2.66958900e+06],\n",
       "       [0.00000000e+00, 9.80300000e+03, 0.00000000e+00],\n",
       "       [1.99157000e+05, 6.64461000e+05, 1.41485700e+06],\n",
       "       [0.00000000e+00, 5.95390000e+04, 0.00000000e+00],\n",
       "       [9.68400000e+04, 7.50903900e+06, 1.11529000e+05],\n",
       "       [8.08180000e+04, 1.59964100e+06, 8.60136000e+05],\n",
       "       [2.13999000e+05, 9.53136000e+05, 5.50163000e+06],\n",
       "       [2.62788000e+05, 8.19175500e+06, 2.36815100e+06],\n",
       "       [2.10692000e+05, 1.45186900e+06, 2.09326300e+06],\n",
       "       [2.22093000e+05, 4.45247600e+06, 9.11453000e+05],\n",
       "       [4.40698000e+05, 0.00000000e+00, 2.42408300e+06],\n",
       "       [0.00000000e+00, 3.43434000e+05, 1.81755000e+05],\n",
       "       [2.40189000e+05, 0.00000000e+00, 1.63929700e+06],\n",
       "       [4.20636000e+05, 1.97941750e+07, 5.05050000e+05],\n",
       "       [2.75101000e+05, 8.50010000e+05, 1.08682100e+06],\n",
       "       [3.14288000e+05, 1.17551000e+05, 1.10139300e+06],\n",
       "       [9.49410000e+04, 5.26657800e+06, 2.49787000e+05],\n",
       "       [0.00000000e+00, 0.00000000e+00, 2.79420000e+04],\n",
       "       [2.39502000e+05, 0.00000000e+00, 1.11208700e+06],\n",
       "       [1.11125800e+06, 1.92500000e+07, 8.68271600e+06],\n",
       "       [0.00000000e+00, 0.00000000e+00, 1.27900000e+03],\n",
       "       [0.00000000e+00, 1.42646900e+06, 0.00000000e+00],\n",
       "       [0.00000000e+00, 8.86231000e+05, 5.64348000e+05],\n",
       "       [6.61500000e+03, 0.00000000e+00, 1.14665800e+06],\n",
       "       [0.00000000e+00, 0.00000000e+00, 3.62096000e+05],\n",
       "       [2.88589000e+05, 0.00000000e+00, 1.13046100e+06],\n",
       "       [4.04338000e+05, 2.02204800e+06, 1.74752200e+06],\n",
       "       [0.00000000e+00, 1.32457800e+06, 0.00000000e+00],\n",
       "       [2.59996000e+05, 1.66826000e+06, 1.03439500e+06],\n",
       "       [3.17543000e+05, 1.29704900e+06, 1.93435900e+06],\n",
       "       [0.00000000e+00, 5.12715500e+06, 0.00000000e+00],\n",
       "       [2.01955000e+05, 1.72954100e+06, 4.48444200e+06],\n",
       "       [2.48146000e+05, 2.81073000e+05, 1.57651100e+06],\n",
       "       [0.00000000e+00, 4.31750000e+05, 8.37500000e+04],\n",
       "       [0.00000000e+00, 0.00000000e+00, 8.49920000e+04],\n",
       "       [0.00000000e+00, 0.00000000e+00, 4.92880000e+04],\n",
       "       [2.63413000e+05, 5.06765000e+05, 1.31876300e+06],\n",
       "       [0.00000000e+00, 7.54966000e+05, 0.00000000e+00],\n",
       "       [7.63990000e+04, 4.16067200e+06, 3.94475000e+05],\n",
       "       [6.55037000e+05, 2.87980000e+04, 1.38669000e+06],\n",
       "       [0.00000000e+00, 2.60449000e+06, 1.54562900e+07],\n",
       "       [2.61809000e+05, 0.00000000e+00, 4.77557000e+05],\n",
       "       [2.48017000e+05, 8.25464000e+05, 1.05463700e+06],\n",
       "       [0.00000000e+00, 1.92758000e+05, 5.50970000e+04],\n",
       "       [2.29284000e+05, 4.00478000e+05, 8.12194000e+05],\n",
       "       [2.31946000e+05, 6.36246000e+05, 1.56646900e+06],\n",
       "       [2.21003000e+05, 0.00000000e+00, 3.19941000e+05],\n",
       "       [1.58403000e+05, 8.30855200e+06, 3.60300000e+05],\n",
       "       [0.00000000e+00, 3.07660640e+07, 9.10930000e+04],\n",
       "       [2.50100000e+05, 1.55001900e+06, 1.41046400e+06],\n",
       "       [4.92375000e+05, 8.83191300e+06, 5.50981000e+05],\n",
       "       [1.06093200e+06, 1.04335180e+07, 1.72525300e+07],\n",
       "       [2.61879000e+05, 1.53641670e+07, 3.12338300e+06],\n",
       "       [2.39671000e+05, 0.00000000e+00, 8.27696000e+05],\n",
       "       [0.00000000e+00, 6.64375000e+05, 0.00000000e+00],\n",
       "       [0.00000000e+00, 1.76378000e+05, 5.05910000e+04],\n",
       "       [0.00000000e+00, 7.59557000e+05, 0.00000000e+00],\n",
       "       [3.09946000e+05, 6.71737000e+05, 1.58742100e+06],\n",
       "       [0.00000000e+00, 0.00000000e+00, 3.75000000e+03],\n",
       "       [8.52740000e+04, 2.16517200e+06, 1.97959600e+06],\n",
       "       [2.47338000e+05, 5.91250000e+05, 3.99393000e+05],\n",
       "       [3.49487000e+05, 2.07030600e+06, 8.40701600e+06],\n",
       "       [3.30546000e+05, 2.54281300e+06, 2.35570200e+06],\n",
       "       [0.00000000e+00, 0.00000000e+00, 1.19292000e+05],\n",
       "       [4.15189000e+05, 0.00000000e+00, 1.86875800e+06],\n",
       "       [2.65214000e+05, 3.18125000e+06, 1.09266300e+06],\n",
       "       [2.78601000e+05, 7.65920000e+05, 8.75760000e+05],\n",
       "       [2.74975000e+05, 3.84728000e+05, 1.27228400e+06]])"
      ]
     },
     "execution_count": 19,
     "metadata": {},
     "output_type": "execute_result"
    }
   ],
   "source": [
    "feat"
   ]
  },
  {
   "cell_type": "code",
   "execution_count": 12,
   "metadata": {
    "ExecuteTime": {
     "end_time": "2019-10-20T01:21:23.541330Z",
     "start_time": "2019-10-20T01:21:23.537948Z"
    }
   },
   "outputs": [
    {
     "data": {
      "text/plain": [
       "(139,)"
      ]
     },
     "execution_count": 12,
     "metadata": {},
     "output_type": "execute_result"
    }
   ],
   "source": [
    "feat[:,1].shape"
   ]
  },
  {
   "cell_type": "code",
   "execution_count": 20,
   "metadata": {
    "ExecuteTime": {
     "end_time": "2019-10-20T01:23:58.824785Z",
     "start_time": "2019-10-20T01:23:58.810283Z"
    }
   },
   "outputs": [
    {
     "data": {
      "text/plain": [
       "array([[0.02911345]])"
      ]
     },
     "execution_count": 20,
     "metadata": {},
     "output_type": "execute_result"
    }
   ],
   "source": [
    "transf0=MinMaxScaler().fit(feat[:,1].reshape(feat[:,1].shape[0],1))\n",
    "transf0.transform([[1000000]])\n",
    "\n"
   ]
  },
  {
   "cell_type": "code",
   "execution_count": 11,
   "metadata": {
    "ExecuteTime": {
     "end_time": "2019-10-20T00:34:57.175762Z",
     "start_time": "2019-10-20T00:34:57.169981Z"
    },
    "scrolled": true
   },
   "outputs": [],
   "source": [
    "fxx"
   ]
  }
 ],
 "metadata": {
  "kernelspec": {
   "display_name": "Python 3",
   "language": "python",
   "name": "python3"
  },
  "language_info": {
   "codemirror_mode": {
    "name": "ipython",
    "version": 3
   },
   "file_extension": ".py",
   "mimetype": "text/x-python",
   "name": "python",
   "nbconvert_exporter": "python",
   "pygments_lexer": "ipython3",
   "version": "3.6.7"
  },
  "toc": {
   "base_numbering": 1,
   "nav_menu": {},
   "number_sections": true,
   "sideBar": true,
   "skip_h1_title": false,
   "title_cell": "Table of Contents",
   "title_sidebar": "Contents",
   "toc_cell": false,
   "toc_position": {},
   "toc_section_display": true,
   "toc_window_display": false
  },
  "varInspector": {
   "cols": {
    "lenName": 16,
    "lenType": 16,
    "lenVar": 40
   },
   "kernels_config": {
    "python": {
     "delete_cmd_postfix": "",
     "delete_cmd_prefix": "del ",
     "library": "var_list.py",
     "varRefreshCmd": "print(var_dic_list())"
    },
    "r": {
     "delete_cmd_postfix": ") ",
     "delete_cmd_prefix": "rm(",
     "library": "var_list.r",
     "varRefreshCmd": "cat(var_dic_list()) "
    }
   },
   "types_to_exclude": [
    "module",
    "function",
    "builtin_function_or_method",
    "instance",
    "_Feature"
   ],
   "window_display": false
  }
 },
 "nbformat": 4,
 "nbformat_minor": 2
}
